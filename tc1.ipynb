{
  "cells": [
    {
      "cell_type": "markdown",
      "metadata": {
        "id": "view-in-github",
        "colab_type": "text"
      },
      "source": [
        "<a href=\"https://colab.research.google.com/github/Jeevita-R/da_notes/blob/main/tclass1.ipynb\" target=\"_parent\"><img src=\"https://colab.research.google.com/assets/colab-badge.svg\" alt=\"Open In Colab\"/></a>"
      ]
    },
    {
      "cell_type": "markdown",
      "metadata": {
        "id": "obctOJoY1DWp"
      },
      "source": [
        "kewjdhgwhfjekd\n"
      ]
    },
    {
      "cell_type": "code",
      "execution_count": null,
      "metadata": {
        "id": "gf_pXMAC96bu"
      },
      "outputs": [],
      "source": []
    },
    {
      "cell_type": "code",
      "execution_count": null,
      "metadata": {
        "colab": {
          "base_uri": "https://localhost:8080/"
        },
        "id": "iYBJ2K_V0XoJ",
        "outputId": "d952739a-ab98-4856-acd1-492cf36607d3"
      },
      "outputs": [
        {
          "name": "stdout",
          "output_type": "stream",
          "text": [
            "12\n"
          ]
        }
      ],
      "source": [
        "s='good evening'\n",
        "print(len(s))"
      ]
    },
    {
      "cell_type": "markdown",
      "metadata": {
        "id": "0_4dVOdY09Kj"
      },
      "source": [
        "ksdjhgfcdfwiefhowiefhweufwkehfkwehf\n"
      ]
    },
    {
      "cell_type": "code",
      "execution_count": null,
      "metadata": {
        "colab": {
          "base_uri": "https://localhost:8080/"
        },
        "id": "qOrm7xJp0z8g",
        "outputId": "9d103768-f99e-49b2-a1ac-c991a81d1698"
      },
      "outputs": [
        {
          "name": "stdout",
          "output_type": "stream",
          "text": [
            "[10, 20, 30, 40, 10, 20, 30, 40]\n"
          ]
        }
      ],
      "source": [
        "l=[10,20,30,40]\n",
        "print(l*2)"
      ]
    },
    {
      "cell_type": "code",
      "execution_count": null,
      "metadata": {
        "id": "WF_hRL4X97Hy"
      },
      "outputs": [],
      "source": [
        "import numpy as np"
      ]
    },
    {
      "cell_type": "code",
      "execution_count": null,
      "metadata": {
        "colab": {
          "base_uri": "https://localhost:8080/"
        },
        "id": "e1dAIqSA-Afq",
        "outputId": "3adcef09-eee8-45cc-8f8e-99c22bc92341"
      },
      "outputs": [
        {
          "data": {
            "text/plain": [
              "array([10, 20, 30, 40])"
            ]
          },
          "execution_count": 4,
          "metadata": {},
          "output_type": "execute_result"
        }
      ],
      "source": [
        "np.array([10,20,30,40])"
      ]
    },
    {
      "cell_type": "code",
      "execution_count": null,
      "metadata": {
        "colab": {
          "base_uri": "https://localhost:8080/"
        },
        "id": "8PZYcIUe_TOd",
        "outputId": "92efea36-da9f-4dd8-86e0-86b2cc314465"
      },
      "outputs": [
        {
          "data": {
            "text/plain": [
              "array([12. ,  3.4,  5.6,  9. ])"
            ]
          },
          "execution_count": 5,
          "metadata": {},
          "output_type": "execute_result"
        }
      ],
      "source": [
        "np.array([12,3.4,5.6,9])"
      ]
    },
    {
      "cell_type": "code",
      "execution_count": null,
      "metadata": {
        "colab": {
          "base_uri": "https://localhost:8080/"
        },
        "id": "VTMCME6W_YeW",
        "outputId": "76b78f31-7ceb-47ef-cfbc-5eb03573755a"
      },
      "outputs": [
        {
          "data": {
            "text/plain": [
              "array(['10', '20', '30', '40', 'hai'], dtype='<U21')"
            ]
          },
          "execution_count": 6,
          "metadata": {},
          "output_type": "execute_result"
        }
      ],
      "source": [
        "np.array([10,20,30,40,'hai'])"
      ]
    },
    {
      "cell_type": "code",
      "execution_count": null,
      "metadata": {
        "colab": {
          "base_uri": "https://localhost:8080/"
        },
        "id": "Xlh_Fz8Z_b0y",
        "outputId": "42a48f15-5f20-4bea-eccd-ba64e5ee986d"
      },
      "outputs": [
        {
          "data": {
            "text/plain": [
              "array([10, 20, 30, 40, {1, 2}], dtype=object)"
            ]
          },
          "execution_count": 7,
          "metadata": {},
          "output_type": "execute_result"
        }
      ],
      "source": [
        "np.array([10,20,30,40,{1,2}])\n"
      ]
    },
    {
      "cell_type": "code",
      "execution_count": null,
      "metadata": {
        "colab": {
          "base_uri": "https://localhost:8080/"
        },
        "id": "hEWi1ykPAdrv",
        "outputId": "4f554d47-3f6a-4b93-9e4b-166590d984ff"
      },
      "outputs": [
        {
          "name": "stdout",
          "output_type": "stream",
          "text": [
            "int64\n"
          ]
        }
      ],
      "source": [
        "a=np.array([12,3,67,89,True])\n",
        "print(a.dtype)"
      ]
    },
    {
      "cell_type": "code",
      "execution_count": null,
      "metadata": {
        "colab": {
          "base_uri": "https://localhost:8080/"
        },
        "id": "iuoTaveNBSEI",
        "outputId": "9540bc38-8b86-43a8-eb64-57e27afbb188"
      },
      "outputs": [
        {
          "name": "stdout",
          "output_type": "stream",
          "text": [
            "object\n",
            "<class 'int'>\n"
          ]
        }
      ],
      "source": [
        "a=np.array([1,2,{3,4}])\n",
        "print(a.dtype)\n",
        "print(type(a[0]))"
      ]
    },
    {
      "cell_type": "code",
      "execution_count": null,
      "metadata": {
        "colab": {
          "base_uri": "https://localhost:8080/",
          "height": 141
        },
        "id": "tBrT0uscBuKC",
        "outputId": "4f0b0901-c6b0-4428-a094-4ebcf40a0fe7"
      },
      "outputs": [
        {
          "ename": "ValueError",
          "evalue": "setting an array element with a sequence. The requested array has an inhomogeneous shape after 1 dimensions. The detected shape was (5,) + inhomogeneous part.",
          "output_type": "error",
          "traceback": [
            "\u001b[0;31m---------------------------------------------------------------------------\u001b[0m",
            "\u001b[0;31mValueError\u001b[0m                                Traceback (most recent call last)",
            "\u001b[0;32m<ipython-input-10-b16de245c398>\u001b[0m in \u001b[0;36m<cell line: 1>\u001b[0;34m()\u001b[0m\n\u001b[0;32m----> 1\u001b[0;31m \u001b[0mnp\u001b[0m\u001b[0;34m.\u001b[0m\u001b[0marray\u001b[0m\u001b[0;34m(\u001b[0m\u001b[0;34m[\u001b[0m\u001b[0;36m1\u001b[0m\u001b[0;34m,\u001b[0m\u001b[0;36m2\u001b[0m\u001b[0;34m,\u001b[0m\u001b[0;36m3\u001b[0m\u001b[0;34m,\u001b[0m\u001b[0;36m4\u001b[0m\u001b[0;34m,\u001b[0m\u001b[0;34m[\u001b[0m\u001b[0;36m1\u001b[0m\u001b[0;34m,\u001b[0m\u001b[0;36m2\u001b[0m\u001b[0;34m,\u001b[0m\u001b[0;36m3\u001b[0m\u001b[0;34m]\u001b[0m\u001b[0;34m]\u001b[0m\u001b[0;34m)\u001b[0m\u001b[0;34m\u001b[0m\u001b[0;34m\u001b[0m\u001b[0m\n\u001b[0m",
            "\u001b[0;31mValueError\u001b[0m: setting an array element with a sequence. The requested array has an inhomogeneous shape after 1 dimensions. The detected shape was (5,) + inhomogeneous part."
          ]
        }
      ],
      "source": [
        "np.array([1,2,3,4,[1,2,3]])"
      ]
    },
    {
      "cell_type": "code",
      "execution_count": null,
      "metadata": {
        "colab": {
          "background_save": true,
          "base_uri": "https://localhost:8080/"
        },
        "id": "6yDi3_gadcrq",
        "outputId": "9f384ea5-2ef0-4b63-a1d7-0ac4883edf2a"
      },
      "outputs": [
        {
          "data": {
            "text/plain": [
              "6"
            ]
          },
          "execution_count": 12,
          "metadata": {},
          "output_type": "execute_result"
        }
      ],
      "source": [
        "a=np.array([1,2,3,4,5,6])\n",
        "a.max()"
      ]
    }
  ],
  "metadata": {
    "colab": {
      "provenance": [],
      "authorship_tag": "ABX9TyPhqr2B8gcatISqwBYmwad8",
      "include_colab_link": true
    },
    "kernelspec": {
      "display_name": "Python 3",
      "name": "python3"
    },
    "language_info": {
      "name": "python"
    }
  },
  "nbformat": 4,
  "nbformat_minor": 0
}
